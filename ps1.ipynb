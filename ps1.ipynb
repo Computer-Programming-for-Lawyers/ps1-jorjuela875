{
 "cells": [
  {
   "cell_type": "code",
   "execution_count": 7,
   "metadata": {},
   "outputs": [
    {
     "name": "stdout",
     "output_type": "stream",
     "text": [
      "Hello, World!\n"
     ]
    }
   ],
   "source": [
    "### Name: Juan Carlos Orjuela\n",
    "### Filename: ps1.ipynb\n",
    "### Description: Prints hello world to the whole world.\n",
    "###     command-line arguments (in that order). Prints hello world\n",
    "### Dependencies: none\n",
    "### Help: read textbook. \n",
    "\n",
    "print (\"Hello, World!\")"
   ]
  }
 ],
 "metadata": {
  "kernelspec": {
   "display_name": "Python 3",
   "language": "python",
   "name": "python3"
  },
  "language_info": {
   "codemirror_mode": {
    "name": "ipython",
    "version": 3
   },
   "file_extension": ".py",
   "mimetype": "text/x-python",
   "name": "python",
   "nbconvert_exporter": "python",
   "pygments_lexer": "ipython3",
   "version": "3.12.1"
  }
 },
 "nbformat": 4,
 "nbformat_minor": 2
}
